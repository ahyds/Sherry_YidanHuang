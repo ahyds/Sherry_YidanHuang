{
 "cells": [
  {
   "cell_type": "markdown",
   "metadata": {},
   "source": [
    "# WeatherPy\n",
    "----\n",
    "\n",
    "#### Note\n",
    "* Instructions have been included for each segment. You do not have to follow them exactly, but they are included to help you think through the steps."
   ]
  },
  {
   "cell_type": "code",
   "execution_count": 4,
   "metadata": {
    "scrolled": true
   },
   "outputs": [],
   "source": [
    "# Dependencies and Setup\n",
    "import matplotlib.pyplot as plt\n",
    "import pandas as pd\n",
    "import numpy as np\n",
    "import requests\n",
    "import time\n",
    "import json\n",
    "from config import api_key\n",
    "from pprint import pprint\n",
    "import datetime\n",
    "\n",
    "# Incorporated citipy to determine city based on latitude and longitude\n",
    "from citipy import citipy\n",
    "\n",
    "# Output File (CSV)\n",
    "output_data_file = \"output_data/cities.csv\"\n",
    "\n",
    "# Range of latitudes and longitudes\n",
    "lat_range = (-90, 90)\n",
    "lng_range = (-180, 180)"
   ]
  },
  {
   "cell_type": "markdown",
   "metadata": {},
   "source": [
    "## Generate Cities List"
   ]
  },
  {
   "cell_type": "code",
   "execution_count": null,
   "metadata": {},
   "outputs": [],
   "source": [
    "# List for holding lat_lngs and cities (emplty lists as container for data to generate later)\n",
    "lat_lngs = []\n",
    "cities = []\n",
    "\n",
    "# Create a set of random lat and lng combinations\n",
    "lats = np.random.uniform(low=-90.000, high=90.000, size=1500)   # ? QUESTION: what is size meaning?\n",
    "lngs = np.random.uniform(low=-180.000, high=180.000, size=1500)\n",
    "lat_lngs = zip(lats, lngs)\n",
    "\n",
    "# Identify nearest city for each lat, lng combination\n",
    "for lat_lng in lat_lngs:\n",
    "    city = citipy.nearest_city(lat_lng[0], lat_lng[1]).city_name\n",
    "    \n",
    "    # If the city is unique, then add it to a our cities list\n",
    "    if city not in cities:\n",
    "        cities.append(city)\n",
    "\n",
    "# Print the city count to confirm sufficient count    #---? how to control number of cities ?\n",
    "len(cities)"
   ]
  },
  {
   "cell_type": "markdown",
   "metadata": {},
   "source": [
    "### Perform API Calls\n",
    "* Perform a weather check on each city using a series of successive API calls.\n",
    "* Include a print log of each city as it'sbeing processed (with the city number and city name).\n"
   ]
  },
  {
   "cell_type": "code",
   "execution_count": 2,
   "metadata": {},
   "outputs": [
    {
     "ename": "NameError",
     "evalue": "name 'cities' is not defined",
     "output_type": "error",
     "traceback": [
      "\u001b[1;31m---------------------------------------------------------------------------\u001b[0m",
      "\u001b[1;31mNameError\u001b[0m                                 Traceback (most recent call last)",
      "\u001b[1;32m<ipython-input-2-7488ead92480>\u001b[0m in \u001b[0;36m<module>\u001b[1;34m\u001b[0m\n\u001b[0;32m      1\u001b[0m \u001b[1;31m# build result dataframe starting with city names\u001b[0m\u001b[1;33m\u001b[0m\u001b[1;33m\u001b[0m\u001b[1;33m\u001b[0m\u001b[0m\n\u001b[0;32m      2\u001b[0m cities_pd = pd.DataFrame({\n\u001b[1;32m----> 3\u001b[1;33m     \u001b[1;34m\"City\"\u001b[0m\u001b[1;33m:\u001b[0m\u001b[0mcities\u001b[0m\u001b[1;33m,\u001b[0m\u001b[1;33m\u001b[0m\u001b[1;33m\u001b[0m\u001b[0m\n\u001b[0m\u001b[0;32m      4\u001b[0m \u001b[1;34m\"Cloudiness\"\u001b[0m\u001b[1;33m:\u001b[0m\u001b[1;34m\"\"\u001b[0m\u001b[1;33m\u001b[0m\u001b[1;33m\u001b[0m\u001b[0m\n\u001b[0;32m      5\u001b[0m \u001b[1;33m,\u001b[0m\u001b[1;34m\"Country\"\u001b[0m\u001b[1;33m:\u001b[0m\u001b[1;34m\"\"\u001b[0m\u001b[1;33m\u001b[0m\u001b[1;33m\u001b[0m\u001b[0m\n",
      "\u001b[1;31mNameError\u001b[0m: name 'cities' is not defined"
     ]
    }
   ],
   "source": [
    "# build result dataframe starting with city names\n",
    "cities_pd = pd.DataFrame({\n",
    "    \"City\":cities,\n",
    "\"Cloudiness\":\"\"\n",
    ",\"Country\":\"\"\n",
    ",\"Date\":\"\"\n",
    ",\"Humidity\":\"\"\n",
    ",\"Lat\":\"\"\n",
    ",\"Lng\":\"\"\n",
    ",\"Max Temp\":\"\"\n",
    ",\"Wind Speed\":\"\"\n",
    "})\n",
    "cities_pd.head()\n",
    "\n",
    "# # Add columns for lat, lng, airport name, airport address, airport rating\n",
    "# # Note that we used \"\" to specify initial entry.\n",
    "# cities_pd[\"Cloudiness\"] = \"\"\n",
    "# cities_pd[\"Country\"] = \"\"\n",
    "# cities_pd[\"Date\"] = \"\"\n",
    "# cities_pd[\"Humidity\"] = \"\"\n",
    "# cities_pd[\"Lat\"] = \"\"\n",
    "# cities_pd[\"Lng\"] = \"\"\n",
    "# cities_pd[\"Max Temp\"] = \"\"\n",
    "# cities_pd[\"Wind Speed\"] = \"\"\n",
    "\n",
    "\n",
    "cities_pd.head()"
   ]
  },
  {
   "cell_type": "code",
   "execution_count": null,
   "metadata": {},
   "outputs": [],
   "source": [
    "# To enable print function with bold characters\n",
    "class bcolors:\n",
    "    HEADER = '\\033[95m'\n",
    "    OKBLUE = '\\033[94m'\n",
    "    OKGREEN = '\\033[92m'\n",
    "    WARNING = '\\033[93m'\n",
    "    FAIL = '\\033[91m'\n",
    "    ENDC = '\\033[0m'\n",
    "    BOLD = '\\033[1m'\n",
    "    UNDERLINE = '\\033[4m'\n",
    "\n",
    "# Show start of processing\n",
    "print('Beginning Data Retrieval')\n",
    "print('-----------------------------------')\n",
    "city_cnt = 1\n",
    "set_cnt =1\n",
    "\n",
    "\n",
    "# Loop through the cities_pd and run a lat/long search for each city\n",
    "for index, row in cities_pd.iterrows():\n",
    "    url = \"http://api.openweathermap.org/data/2.5/weather?\"\n",
    "    city = row['City']\n",
    "    \n",
    "    # Build query URL\n",
    "    query_url = url + \"appid=\" + api_key + \"&q=\" + city\n",
    "\n",
    "    # make request\n",
    "    weather_data = requests.get(query_url).json()\n",
    "    \n",
    "    try:\n",
    "        # Retrieve data and update dataframe\n",
    "        cities_pd.loc[index,\"Cloudiness\"] =weather_data['clouds']['all']\n",
    "        cities_pd.loc[index,\"Country\"] =weather_data['sys']['country']\n",
    "        cities_pd.loc[index,\"Date\"] =weather_data['dt']\n",
    "        cities_pd.loc[index,\"Humidity\"] =weather_data['main']['humidity']\n",
    "        cities_pd.loc[index,\"Lat\"] =weather_data['coord']['lat']\n",
    "        cities_pd.loc[index,\"Lng\"] =weather_data['coord']['lon']\n",
    "        cities_pd.loc[index,\"Max Temp\"] =weather_data['main'] ['temp_max']\n",
    "        cities_pd.loc[index,\"Wind Speed\"] =weather_data['wind']['speed']\n",
    "        print(f'Processing Record {city_cnt} of set {set_cnt} | {city}')\n",
    "        \n",
    "        # city cnt and set cnt rules\n",
    "        if city_cnt<50:\n",
    "            city_cnt += 1\n",
    "        else:\n",
    "            city_cnt = 1\n",
    "            set_cnt += 1\n",
    "        \n",
    "    except (KeyError, IndexError):\n",
    "        print (\"City \"+bcolors.BOLD + \"not\"+ bcolors.ENDC+\" found. Skipping...\")\n",
    "\n",
    "# Show end of processing\n",
    "print('-----------------------------------')\n",
    "print('Data Retrieval Complete')\n",
    "print('-----------------------------------')\n"
   ]
  },
  {
   "cell_type": "markdown",
   "metadata": {},
   "source": [
    "### Convert Raw Data to DataFrame\n",
    "* Export the city data into a .csv.\n",
    "* Display the DataFrame"
   ]
  },
  {
   "cell_type": "code",
   "execution_count": null,
   "metadata": {},
   "outputs": [],
   "source": [
    "# Export to .csv\n",
    "cities_pd.to_csv(output_data_file)\n",
    "\n",
    "# Display data frame\n",
    "cities_pd.count()"
   ]
  },
  {
   "cell_type": "code",
   "execution_count": null,
   "metadata": {},
   "outputs": [],
   "source": [
    "# Visualise data\n",
    "cities_pd.head()"
   ]
  },
  {
   "cell_type": "markdown",
   "metadata": {},
   "source": [
    "### Plotting the Data\n",
    "* Use proper labeling of the plots using plot titles (including date of analysis) and axes labels.\n",
    "* Save the plotted figures as .pngs."
   ]
  },
  {
   "cell_type": "markdown",
   "metadata": {},
   "source": [
    "#### Latitude vs. Temperature Plot"
   ]
  },
  {
   "cell_type": "code",
   "execution_count": null,
   "metadata": {},
   "outputs": [],
   "source": []
  },
  {
   "cell_type": "code",
   "execution_count": null,
   "metadata": {},
   "outputs": [],
   "source": [
    "x = pd.to_numeric(cities_pd['Lat'])\n",
    "y = cities_pd['Max Temp']\n",
    "\n",
    "plt.scatter(x, y, marker=\"o\" ,  edgecolors=\"black\", c='coral', alpha =0.85, linewidth=[0.79])\n",
    "\n",
    "\n",
    "# Generate date\n",
    "datetime.datetime.now().date()\n",
    "current_day = datetime.datetime.now().date()\n",
    "c_day = current_day.isoformat()\n",
    "\n",
    "# Incorporate the other graph properties\n",
    "plt.xlabel('Latitude')\n",
    "plt.ylabel('Max Temperature (F)')\n",
    "plt.title(f'City Latitude vs. Max Temperature ({c_day})')\n",
    "\n",
    "plt.grid()\n",
    "\n",
    "# Save Figure\n",
    "plt.savefig('W1.png')"
   ]
  },
  {
   "cell_type": "markdown",
   "metadata": {},
   "source": [
    "#### Latitude vs. Humidity Plot"
   ]
  },
  {
   "cell_type": "code",
   "execution_count": null,
   "metadata": {},
   "outputs": [],
   "source": [
    "# x = pd.to_numeric(cities_pd['Lat'])\n",
    "y = cities_pd['Humidity']\n",
    "\n",
    "plt.scatter(x, y, marker=\"o\" ,  edgecolors=\"black\", c='coral', alpha =0.85, linewidth=[0.79])\n",
    "\n",
    "# Incorporate the other graph properties\n",
    "plt.xlabel('Latitude')\n",
    "plt.ylabel('Humidity (%)')\n",
    "plt.title(f'City Latitude vs. Max Temperature ({c_day})')\n",
    "\n",
    "plt.grid()\n",
    "\n",
    "# Save Figure\n",
    "plt.savefig('W2.png')"
   ]
  },
  {
   "cell_type": "markdown",
   "metadata": {},
   "source": [
    "#### Latitude vs. Cloudiness Plot"
   ]
  },
  {
   "cell_type": "code",
   "execution_count": null,
   "metadata": {},
   "outputs": [],
   "source": [
    "# x = pd.to_numeric(cities_pd['Lat'])\n",
    "y = cities_pd['Cloudiness']\n",
    "\n",
    "plt.scatter(x, y, marker=\"o\" ,  edgecolors=\"black\", c='coral', alpha =0.85, linewidth=[0.79])\n",
    "\n",
    "# Incorporate the other graph properties\n",
    "plt.xlabel('Latitude')\n",
    "plt.ylabel('Cloudiness (%)')\n",
    "plt.title(f'City Latitude vs. Max Temperature ({c_day})')\n",
    "\n",
    "plt.grid()\n",
    "\n",
    "# Save Figure\n",
    "plt.savefig('W3.png')"
   ]
  },
  {
   "cell_type": "markdown",
   "metadata": {},
   "source": [
    "#### Latitude vs. Wind Speed Plot"
   ]
  },
  {
   "cell_type": "code",
   "execution_count": null,
   "metadata": {},
   "outputs": [],
   "source": [
    "# x = pd.to_numeric(cities_pd['Lat'])\n",
    "y = cities_pd['Wind Speed']\n",
    "\n",
    "plt.scatter(x, y, marker=\"o\" ,  edgecolors=\"black\", c='coral', alpha =0.85, linewidth=[0.79])\n",
    "\n",
    "# Incorporate the other graph properties\n",
    "plt.xlabel('Latitude')\n",
    "plt.ylabel('Wind Speed (mph)')\n",
    "plt.title(f'City Latitude vs. Max Temperature ({c_day})')\n",
    "\n",
    "plt.grid()\n",
    "\n",
    "# Save Figure\n",
    "plt.savefig('W4.png')"
   ]
  },
  {
   "cell_type": "markdown",
   "metadata": {},
   "source": [
    "# Three observable trends based on the data\n",
    "## Trend 1\n",
    "Max temperature presents **a symmetrical distribution** on both sides of the latitude of 20 apart from some outliers around latitude of 60. The peak(300 ºF）is located on latitude of 20 and sloping down on each side to a lowest Max Temp of aournd 275 ºF. \n",
    "\n",
    "## Trend 2 \n",
    "Among all latitudes city's humidity is distributed **heavily in the range of 70% - 100%** regardless where the city is located. \n",
    "\n",
    "## Trend 3\n",
    "Cloudiness is so **randomly** distributed that **no evident trend or assumption** could be made while analyzing the figure... \n",
    "\n"
   ]
  }
 ],
 "metadata": {
  "anaconda-cloud": {},
  "kernel_info": {
   "name": "python3"
  },
  "kernelspec": {
   "display_name": "Python 3",
   "language": "python",
   "name": "python3"
  },
  "language_info": {
   "codemirror_mode": {
    "name": "ipython",
    "version": 3
   },
   "file_extension": ".py",
   "mimetype": "text/x-python",
   "name": "python",
   "nbconvert_exporter": "python",
   "pygments_lexer": "ipython3",
   "version": "3.7.3"
  },
  "nteract": {
   "version": "0.12.3"
  }
 },
 "nbformat": 4,
 "nbformat_minor": 2
}
