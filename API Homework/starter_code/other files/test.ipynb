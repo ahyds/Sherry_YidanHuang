{
 "cells": [
  {
   "cell_type": "code",
   "execution_count": 102,
   "metadata": {},
   "outputs": [],
   "source": [
    "%matplotlib inline\n",
    "\n",
    "# Dependencies and Setup\n",
    "import matplotlib.pyplot as plt\n",
    "import pandas as pd\n",
    "import numpy as np\n",
    "import requests\n",
    "import time\n",
    "import json\n",
    "from config import api_key\n",
    "from pprint import pprint\n",
    "\n",
    "\n",
    "# Incorporated citipy to determine city based on latitude and longitude\n",
    "from citipy import citipy\n",
    "\n",
    "# Output File (CSV)\n",
    "output_data_file = \"output_data/cities.csv\"\n",
    "\n",
    "# Range of latitudes and longitudes\n",
    "lat_range = (-90, 90)\n",
    "lng_range = (-180, 180)"
   ]
  },
  {
   "cell_type": "code",
   "execution_count": 103,
   "metadata": {},
   "outputs": [
    {
     "data": {
      "text/plain": [
       "(-90, 90)"
      ]
     },
     "execution_count": 103,
     "metadata": {},
     "output_type": "execute_result"
    }
   ],
   "source": [
    "lat_range"
   ]
  },
  {
   "cell_type": "code",
   "execution_count": 104,
   "metadata": {},
   "outputs": [
    {
     "data": {
      "text/plain": [
       "tuple"
      ]
     },
     "execution_count": 104,
     "metadata": {},
     "output_type": "execute_result"
    }
   ],
   "source": [
    "type(lat_range)"
   ]
  },
  {
   "cell_type": "code",
   "execution_count": 105,
   "metadata": {},
   "outputs": [
    {
     "data": {
      "text/plain": [
       "str"
      ]
     },
     "execution_count": 105,
     "metadata": {},
     "output_type": "execute_result"
    }
   ],
   "source": [
    "type(output_data_file)"
   ]
  },
  {
   "cell_type": "code",
   "execution_count": 106,
   "metadata": {},
   "outputs": [
    {
     "data": {
      "text/plain": [
       "module"
      ]
     },
     "execution_count": 106,
     "metadata": {},
     "output_type": "execute_result"
    }
   ],
   "source": [
    "type(citipy)"
   ]
  },
  {
   "cell_type": "code",
   "execution_count": 107,
   "metadata": {},
   "outputs": [
    {
     "data": {
      "text/plain": [
       "module"
      ]
     },
     "execution_count": 107,
     "metadata": {},
     "output_type": "execute_result"
    }
   ],
   "source": [
    "type(time)"
   ]
  },
  {
   "cell_type": "code",
   "execution_count": 108,
   "metadata": {},
   "outputs": [],
   "source": [
    "# List for holding lat_lngs and cities (emplty lists as container for data to generate later)\n",
    "lat_lngs = []\n",
    "cities = []\n",
    "\n",
    "# Create a set of random lat and lng combinations\n",
    "lats = np.random.uniform(low=-90.000, high=90.000, size=1500)   # ? QUESTION: what is size meaning?\n",
    "lngs = np.random.uniform(low=-180.000, high=180.000, size=1500)\n",
    "lat_lngs = zip(lats, lngs)"
   ]
  },
  {
   "cell_type": "code",
   "execution_count": 109,
   "metadata": {},
   "outputs": [
    {
     "data": {
      "text/plain": [
       "numpy.ndarray"
      ]
     },
     "execution_count": 109,
     "metadata": {},
     "output_type": "execute_result"
    }
   ],
   "source": [
    "type(lats)"
   ]
  },
  {
   "cell_type": "code",
   "execution_count": 110,
   "metadata": {},
   "outputs": [
    {
     "data": {
      "text/plain": [
       "1500"
      ]
     },
     "execution_count": 110,
     "metadata": {},
     "output_type": "execute_result"
    }
   ],
   "source": [
    "len(lats)"
   ]
  },
  {
   "cell_type": "code",
   "execution_count": 111,
   "metadata": {},
   "outputs": [],
   "source": [
    "# Identify nearest city for each lat, lng combination\n",
    "for lat_lng in lat_lngs:\n",
    "    city = citipy.nearest_city(lat_lng[0], lat_lng[1]).city_name\n",
    "    \n",
    "    # If the city is unique, then add it to a our cities list\n",
    "    if city not in cities:\n",
    "        cities.append(city)"
   ]
  },
  {
   "cell_type": "code",
   "execution_count": 112,
   "metadata": {},
   "outputs": [
    {
     "data": {
      "text/plain": [
       "632"
      ]
     },
     "execution_count": 112,
     "metadata": {},
     "output_type": "execute_result"
    }
   ],
   "source": [
    "len(cities)"
   ]
  },
  {
   "cell_type": "code",
   "execution_count": 113,
   "metadata": {},
   "outputs": [
    {
     "data": {
      "text/plain": [
       "'yellowknife'"
      ]
     },
     "execution_count": 113,
     "metadata": {},
     "output_type": "execute_result"
    }
   ],
   "source": [
    "cities[0]"
   ]
  },
  {
   "cell_type": "code",
   "execution_count": 114,
   "metadata": {},
   "outputs": [],
   "source": [
    "country1= citipy.nearest_city(lat_lng[0], lat_lng[1]).country_code\n"
   ]
  },
  {
   "cell_type": "code",
   "execution_count": 115,
   "metadata": {},
   "outputs": [
    {
     "data": {
      "text/plain": [
       "'br'"
      ]
     },
     "execution_count": 115,
     "metadata": {},
     "output_type": "execute_result"
    }
   ],
   "source": [
    "country1"
   ]
  },
  {
   "cell_type": "code",
   "execution_count": 116,
   "metadata": {},
   "outputs": [
    {
     "data": {
      "text/plain": [
       "'laguna'"
      ]
     },
     "execution_count": 116,
     "metadata": {},
     "output_type": "execute_result"
    }
   ],
   "source": [
    "c1= citipy.nearest_city(lat_lng[0], lat_lng[1]).city_name\n",
    "c1"
   ]
  },
  {
   "cell_type": "code",
   "execution_count": 117,
   "metadata": {},
   "outputs": [
    {
     "data": {
      "text/plain": [
       "tuple"
      ]
     },
     "execution_count": 117,
     "metadata": {},
     "output_type": "execute_result"
    }
   ],
   "source": [
    "type(lat_lng)"
   ]
  },
  {
   "cell_type": "code",
   "execution_count": 118,
   "metadata": {},
   "outputs": [
    {
     "data": {
      "text/plain": [
       "'fortuna'"
      ]
     },
     "execution_count": 118,
     "metadata": {},
     "output_type": "execute_result"
    }
   ],
   "source": [
    "cities[1]"
   ]
  },
  {
   "cell_type": "code",
   "execution_count": 119,
   "metadata": {},
   "outputs": [
    {
     "data": {
      "text/plain": [
       "True"
      ]
     },
     "execution_count": 119,
     "metadata": {},
     "output_type": "execute_result"
    }
   ],
   "source": [
    "l = c1 in cities\n",
    "l"
   ]
  },
  {
   "cell_type": "code",
   "execution_count": 120,
   "metadata": {},
   "outputs": [
    {
     "data": {
      "text/plain": [
       "318"
      ]
     },
     "execution_count": 120,
     "metadata": {},
     "output_type": "execute_result"
    }
   ],
   "source": [
    "m = cities.index(c1)\n",
    "m"
   ]
  },
  {
   "cell_type": "code",
   "execution_count": 121,
   "metadata": {},
   "outputs": [
    {
     "data": {
      "text/plain": [
       "277"
      ]
     },
     "execution_count": 121,
     "metadata": {},
     "output_type": "execute_result"
    }
   ],
   "source": [
    "n = cities.index('georgetown')\n",
    "n"
   ]
  },
  {
   "cell_type": "code",
   "execution_count": 122,
   "metadata": {},
   "outputs": [
    {
     "data": {
      "text/plain": [
       "77"
      ]
     },
     "execution_count": 122,
     "metadata": {},
     "output_type": "execute_result"
    }
   ],
   "source": [
    "p =cities.index('busselton')\n",
    "p"
   ]
  },
  {
   "cell_type": "markdown",
   "metadata": {},
   "source": [
    "# API calls\n",
    "Perform a weather check on each city using a series of successive API calls.\n",
    "Include a print log of each city as it'sbeing processed (with the city number and city name).\n"
   ]
  },
  {
   "cell_type": "code",
   "execution_count": 123,
   "metadata": {},
   "outputs": [
    {
     "data": {
      "text/plain": [
       "'http://api.openweathermap.org/data/2.5/weather?appid=7c2c0d06f964ef1007dd5f69a2605bb5&q=laguna'"
      ]
     },
     "execution_count": 123,
     "metadata": {},
     "output_type": "execute_result"
    }
   ],
   "source": [
    "# Save config information\n",
    "url = \"http://api.openweathermap.org/data/2.5/weather?\"\n",
    "\n",
    "# Build query URL\n",
    "query_url = url + \"appid=\" + api_key + \"&q=\" + city\n",
    "# query_url = \"{url}appid={api_key}&q={city}\"\n",
    "query_url"
   ]
  },
  {
   "cell_type": "code",
   "execution_count": 124,
   "metadata": {},
   "outputs": [
    {
     "name": "stdout",
     "output_type": "stream",
     "text": [
      "{'base': 'stations',\n",
      " 'clouds': {'all': 20},\n",
      " 'cod': 200,\n",
      " 'coord': {'lat': 16.17, 'lon': -88.94},\n",
      " 'dt': 1562898108,\n",
      " 'id': 3581398,\n",
      " 'main': {'humidity': 78,\n",
      "          'pressure': 1011,\n",
      "          'temp': 301.15,\n",
      "          'temp_max': 301.15,\n",
      "          'temp_min': 301.15},\n",
      " 'name': 'Laguna',\n",
      " 'sys': {'country': 'BZ',\n",
      "         'id': 7081,\n",
      "         'message': 0.0064,\n",
      "         'sunrise': 1562844612,\n",
      "         'sunset': 1562891511,\n",
      "         'type': 1},\n",
      " 'timezone': -21600,\n",
      " 'visibility': 10000,\n",
      " 'weather': [{'description': 'few clouds',\n",
      "              'icon': '02n',\n",
      "              'id': 801,\n",
      "              'main': 'Clouds'}],\n",
      " 'wind': {'deg': 90, 'speed': 2.1}}\n"
     ]
    }
   ],
   "source": [
    "# Get weather data\n",
    "weather_data = requests.get(query_url).json()\n",
    "\n",
    "\n",
    "# Get the temperature from the response\n",
    "pprint(weather_data)"
   ]
  },
  {
   "cell_type": "code",
   "execution_count": null,
   "metadata": {},
   "outputs": [],
   "source": [
    "\n",
    " "
   ]
  },
  {
   "cell_type": "code",
   "execution_count": 125,
   "metadata": {},
   "outputs": [
    {
     "data": {
      "text/html": [
       "<div>\n",
       "<style scoped>\n",
       "    .dataframe tbody tr th:only-of-type {\n",
       "        vertical-align: middle;\n",
       "    }\n",
       "\n",
       "    .dataframe tbody tr th {\n",
       "        vertical-align: top;\n",
       "    }\n",
       "\n",
       "    .dataframe thead th {\n",
       "        text-align: right;\n",
       "    }\n",
       "</style>\n",
       "<table border=\"1\" class=\"dataframe\">\n",
       "  <thead>\n",
       "    <tr style=\"text-align: right;\">\n",
       "      <th></th>\n",
       "      <th>City</th>\n",
       "    </tr>\n",
       "  </thead>\n",
       "  <tbody>\n",
       "    <tr>\n",
       "      <th>0</th>\n",
       "      <td>yellowknife</td>\n",
       "    </tr>\n",
       "    <tr>\n",
       "      <th>1</th>\n",
       "      <td>fortuna</td>\n",
       "    </tr>\n",
       "    <tr>\n",
       "      <th>2</th>\n",
       "      <td>alyangula</td>\n",
       "    </tr>\n",
       "    <tr>\n",
       "      <th>3</th>\n",
       "      <td>ushuaia</td>\n",
       "    </tr>\n",
       "    <tr>\n",
       "      <th>4</th>\n",
       "      <td>san francisco</td>\n",
       "    </tr>\n",
       "  </tbody>\n",
       "</table>\n",
       "</div>"
      ],
      "text/plain": [
       "            City\n",
       "0    yellowknife\n",
       "1        fortuna\n",
       "2      alyangula\n",
       "3        ushuaia\n",
       "4  san francisco"
      ]
     },
     "execution_count": 125,
     "metadata": {},
     "output_type": "execute_result"
    }
   ],
   "source": [
    "# build result dataframe starting with city names\n",
    "cities_pd = pd.DataFrame({\n",
    "    'City':cities\n",
    "})\n",
    "cities_pd.head()"
   ]
  },
  {
   "cell_type": "code",
   "execution_count": 126,
   "metadata": {},
   "outputs": [
    {
     "data": {
      "text/html": [
       "<div>\n",
       "<style scoped>\n",
       "    .dataframe tbody tr th:only-of-type {\n",
       "        vertical-align: middle;\n",
       "    }\n",
       "\n",
       "    .dataframe tbody tr th {\n",
       "        vertical-align: top;\n",
       "    }\n",
       "\n",
       "    .dataframe thead th {\n",
       "        text-align: right;\n",
       "    }\n",
       "</style>\n",
       "<table border=\"1\" class=\"dataframe\">\n",
       "  <thead>\n",
       "    <tr style=\"text-align: right;\">\n",
       "      <th></th>\n",
       "      <th>City</th>\n",
       "      <th>Cloudiness</th>\n",
       "      <th>Country</th>\n",
       "      <th>Date</th>\n",
       "      <th>Humidity</th>\n",
       "      <th>Lat</th>\n",
       "      <th>Lng</th>\n",
       "      <th>Max Temp</th>\n",
       "      <th>Wind Speed</th>\n",
       "    </tr>\n",
       "  </thead>\n",
       "  <tbody>\n",
       "    <tr>\n",
       "      <th>0</th>\n",
       "      <td>yellowknife</td>\n",
       "      <td></td>\n",
       "      <td></td>\n",
       "      <td></td>\n",
       "      <td></td>\n",
       "      <td></td>\n",
       "      <td></td>\n",
       "      <td></td>\n",
       "      <td></td>\n",
       "    </tr>\n",
       "    <tr>\n",
       "      <th>1</th>\n",
       "      <td>fortuna</td>\n",
       "      <td></td>\n",
       "      <td></td>\n",
       "      <td></td>\n",
       "      <td></td>\n",
       "      <td></td>\n",
       "      <td></td>\n",
       "      <td></td>\n",
       "      <td></td>\n",
       "    </tr>\n",
       "    <tr>\n",
       "      <th>2</th>\n",
       "      <td>alyangula</td>\n",
       "      <td></td>\n",
       "      <td></td>\n",
       "      <td></td>\n",
       "      <td></td>\n",
       "      <td></td>\n",
       "      <td></td>\n",
       "      <td></td>\n",
       "      <td></td>\n",
       "    </tr>\n",
       "    <tr>\n",
       "      <th>3</th>\n",
       "      <td>ushuaia</td>\n",
       "      <td></td>\n",
       "      <td></td>\n",
       "      <td></td>\n",
       "      <td></td>\n",
       "      <td></td>\n",
       "      <td></td>\n",
       "      <td></td>\n",
       "      <td></td>\n",
       "    </tr>\n",
       "    <tr>\n",
       "      <th>4</th>\n",
       "      <td>san francisco</td>\n",
       "      <td></td>\n",
       "      <td></td>\n",
       "      <td></td>\n",
       "      <td></td>\n",
       "      <td></td>\n",
       "      <td></td>\n",
       "      <td></td>\n",
       "      <td></td>\n",
       "    </tr>\n",
       "  </tbody>\n",
       "</table>\n",
       "</div>"
      ],
      "text/plain": [
       "            City Cloudiness Country Date Humidity Lat Lng Max Temp Wind Speed\n",
       "0    yellowknife                                                             \n",
       "1        fortuna                                                             \n",
       "2      alyangula                                                             \n",
       "3        ushuaia                                                             \n",
       "4  san francisco                                                             "
      ]
     },
     "execution_count": 126,
     "metadata": {},
     "output_type": "execute_result"
    }
   ],
   "source": [
    "# Add columns for lat, lng, airport name, airport address, airport rating\n",
    "# Note that we used \"\" to specify initial entry.\n",
    "cities_pd[\"Cloudiness\"] = \"\"\n",
    "cities_pd[\"Country\"] = \"\"\n",
    "cities_pd[\"Date\"] = \"\"\n",
    "cities_pd[\"Humidity\"] = \"\"\n",
    "cities_pd[\"Lat\"] = \"\"\n",
    "cities_pd[\"Lng\"] = \"\"\n",
    "cities_pd[\"Max Temp\"] = \"\"\n",
    "cities_pd[\"Wind Speed\"] = \"\"\n",
    "cities_pd = cities_pd.head(75).copy()\n",
    "\n",
    "cities_pd.head()"
   ]
  },
  {
   "cell_type": "code",
   "execution_count": 127,
   "metadata": {},
   "outputs": [
    {
     "name": "stdout",
     "output_type": "stream",
     "text": [
      "Beginning Data Retrieval\n",
      "-----------------------------------\n",
      "Processing Record 1 of set 1 | yellowknife\n",
      "Processing Record 2 of set 1 | fortuna\n",
      "Processing Record 3 of set 1 | alyangula\n",
      "Processing Record 4 of set 1 | ushuaia\n",
      "Processing Record 5 of set 1 | san francisco\n",
      "Processing Record 6 of set 1 | avarua\n",
      "City \u001b[1mnot\u001b[0m found. Skipping...\n",
      "Processing Record 7 of set 1 | sulangan\n",
      "Processing Record 8 of set 1 | ponta do sol\n",
      "Processing Record 9 of set 1 | mataura\n",
      "Processing Record 10 of set 1 | kodiak\n",
      "Processing Record 11 of set 1 | brooks\n",
      "Processing Record 12 of set 1 | pevek\n",
      "Processing Record 13 of set 1 | belmonte\n",
      "Processing Record 14 of set 1 | nadvoitsy\n",
      "Processing Record 15 of set 1 | kirakira\n",
      "Processing Record 16 of set 1 | puerto ayora\n",
      "Processing Record 17 of set 1 | savelugu\n",
      "Processing Record 18 of set 1 | sawakin\n",
      "Processing Record 19 of set 1 | moron\n",
      "City \u001b[1mnot\u001b[0m found. Skipping...\n",
      "Processing Record 20 of set 1 | port-gentil\n",
      "City \u001b[1mnot\u001b[0m found. Skipping...\n",
      "Processing Record 21 of set 1 | lorengau\n",
      "Processing Record 22 of set 1 | mahibadhoo\n",
      "City \u001b[1mnot\u001b[0m found. Skipping...\n",
      "Processing Record 23 of set 1 | guerrero negro\n",
      "Processing Record 24 of set 1 | nome\n",
      "Processing Record 25 of set 1 | yamada\n",
      "Processing Record 26 of set 1 | atuona\n",
      "Processing Record 27 of set 1 | dolgorukovo\n",
      "Processing Record 28 of set 1 | port alfred\n",
      "Processing Record 29 of set 1 | jamestown\n",
      "Processing Record 30 of set 1 | tasiilaq\n",
      "Processing Record 31 of set 1 | ostrovnoy\n",
      "Processing Record 32 of set 1 | abu dhabi\n",
      "Processing Record 33 of set 1 | lysva\n",
      "Processing Record 34 of set 1 | medicine hat\n",
      "Processing Record 35 of set 1 | whitley bay\n",
      "Processing Record 36 of set 1 | romans-sur-isere\n",
      "City \u001b[1mnot\u001b[0m found. Skipping...\n",
      "Processing Record 37 of set 1 | norman wells\n",
      "Processing Record 38 of set 1 | bud\n",
      "Processing Record 39 of set 1 | chuy\n",
      "Processing Record 40 of set 1 | cimarron hills\n",
      "City \u001b[1mnot\u001b[0m found. Skipping...\n",
      "Processing Record 41 of set 1 | mizdah\n",
      "City \u001b[1mnot\u001b[0m found. Skipping...\n",
      "Processing Record 42 of set 1 | butaritari\n",
      "Processing Record 43 of set 1 | hobart\n",
      "Processing Record 44 of set 1 | bilibino\n",
      "Processing Record 45 of set 1 | ambam\n",
      "Processing Record 46 of set 1 | hermanus\n",
      "Processing Record 47 of set 1 | atasu\n",
      "Processing Record 48 of set 1 | palmerston\n",
      "Processing Record 49 of set 1 | punta arenas\n",
      "Processing Record 50 of set 1 | upata\n",
      "City \u001b[1mnot\u001b[0m found. Skipping...\n",
      "City \u001b[1mnot\u001b[0m found. Skipping...\n",
      "Processing Record 1 of set 2 | bredasdorp\n",
      "Processing Record 2 of set 2 | vaini\n",
      "Processing Record 3 of set 2 | airai\n",
      "Processing Record 4 of set 2 | kapaa\n",
      "Processing Record 5 of set 2 | cape town\n",
      "Processing Record 6 of set 2 | esperance\n",
      "Processing Record 7 of set 2 | rikitea\n",
      "Processing Record 8 of set 2 | alihe\n",
      "Processing Record 9 of set 2 | ancud\n",
      "Processing Record 10 of set 2 | zaragoza\n",
      "Processing Record 11 of set 2 | omboue\n",
      "Processing Record 12 of set 2 | hilo\n",
      "Processing Record 13 of set 2 | christchurch\n",
      "Processing Record 14 of set 2 | te anau\n",
      "Processing Record 15 of set 2 | lebu\n",
      "Processing Record 16 of set 2 | east london\n",
      "-----------------------------------\n",
      "Data Retrieval Complete\n",
      "-----------------------------------\n"
     ]
    }
   ],
   "source": [
    "class bcolors:\n",
    "    HEADER = '\\033[95m'\n",
    "    OKBLUE = '\\033[94m'\n",
    "    OKGREEN = '\\033[92m'\n",
    "    WARNING = '\\033[93m'\n",
    "    FAIL = '\\033[91m'\n",
    "    ENDC = '\\033[0m'\n",
    "    BOLD = '\\033[1m'\n",
    "    UNDERLINE = '\\033[4m'\n",
    "\n",
    "# Loop through the cities_pd and run a lat/long search for each city\n",
    "\n",
    "\n",
    "print('Beginning Data Retrieval')\n",
    "print('-----------------------------------')\n",
    "city_cnt = 1\n",
    "set_cnt =1\n",
    "\n",
    "for index, row in cities_pd.iterrows():\n",
    "    url = \"http://api.openweathermap.org/data/2.5/weather?\"\n",
    "    city = row['City']\n",
    "    \n",
    "\n",
    "    # Build query URL\n",
    "    query_url = url + \"appid=\" + api_key + \"&q=\" + city\n",
    "\n",
    "    # make request\n",
    "    weather_data = requests.get(query_url).json()\n",
    "    \n",
    "    try:\n",
    "        \n",
    "        # Retrieve data and update dataframe\n",
    "        cities_pd.loc[index,\"Cloudiness\"] =weather_data['clouds']['all']\n",
    "        cities_pd.loc[index,\"Country\"] =weather_data['sys']['country']\n",
    "        cities_pd.loc[index,\"Date\"] =weather_data['dt']\n",
    "        cities_pd.loc[index,\"Humidity\"] =weather_data['main']['humidity']\n",
    "        cities_pd.loc[index,\"Lat\"] =weather_data['coord']['lat']\n",
    "        cities_pd.loc[index,\"Lng\"] =weather_data['coord']['lon']\n",
    "        cities_pd.loc[index,\"Max Temp\"] =weather_data['main'] ['temp_max']\n",
    "        cities_pd.loc[index,\"Wind Speed\"] =weather_data['wind']['speed']\n",
    "        print(f'Processing Record {city_cnt} of set {set_cnt} | {city}')\n",
    "        if city_cnt<50:\n",
    "            city_cnt += 1\n",
    "        else:\n",
    "            city_cnt = 1\n",
    "            set_cnt += 1\n",
    "        \n",
    "    except (KeyError, IndexError):\n",
    "        print (\"City \"+bcolors.BOLD + \"not\"+ bcolors.ENDC+\" found. Skipping...\")\n",
    "\n",
    "print('-----------------------------------')\n",
    "print('Data Retrieval Complete')\n",
    "print('-----------------------------------')\n"
   ]
  },
  {
   "cell_type": "code",
   "execution_count": 128,
   "metadata": {},
   "outputs": [
    {
     "data": {
      "text/plain": [
       "City          75\n",
       "Cloudiness    75\n",
       "Country       75\n",
       "Date          75\n",
       "Humidity      75\n",
       "Lat           75\n",
       "Lng           75\n",
       "Max Temp      75\n",
       "Wind Speed    75\n",
       "dtype: int64"
      ]
     },
     "execution_count": 128,
     "metadata": {},
     "output_type": "execute_result"
    }
   ],
   "source": [
    "# Export to .csv\n",
    "cities_pd.to_csv(output_data_file)\n",
    "\n",
    "# Display data frame\n",
    "cities_pd.count()"
   ]
  },
  {
   "cell_type": "code",
   "execution_count": 129,
   "metadata": {},
   "outputs": [
    {
     "data": {
      "text/html": [
       "<div>\n",
       "<style scoped>\n",
       "    .dataframe tbody tr th:only-of-type {\n",
       "        vertical-align: middle;\n",
       "    }\n",
       "\n",
       "    .dataframe tbody tr th {\n",
       "        vertical-align: top;\n",
       "    }\n",
       "\n",
       "    .dataframe thead th {\n",
       "        text-align: right;\n",
       "    }\n",
       "</style>\n",
       "<table border=\"1\" class=\"dataframe\">\n",
       "  <thead>\n",
       "    <tr style=\"text-align: right;\">\n",
       "      <th></th>\n",
       "      <th>City</th>\n",
       "      <th>Cloudiness</th>\n",
       "      <th>Country</th>\n",
       "      <th>Date</th>\n",
       "      <th>Humidity</th>\n",
       "      <th>Lat</th>\n",
       "      <th>Lng</th>\n",
       "      <th>Max Temp</th>\n",
       "      <th>Wind Speed</th>\n",
       "    </tr>\n",
       "  </thead>\n",
       "  <tbody>\n",
       "    <tr>\n",
       "      <th>0</th>\n",
       "      <td>yellowknife</td>\n",
       "      <td>75</td>\n",
       "      <td>CA</td>\n",
       "      <td>1562898114</td>\n",
       "      <td>77</td>\n",
       "      <td>62.45</td>\n",
       "      <td>-114.38</td>\n",
       "      <td>289.15</td>\n",
       "      <td>3.6</td>\n",
       "    </tr>\n",
       "    <tr>\n",
       "      <th>1</th>\n",
       "      <td>fortuna</td>\n",
       "      <td>90</td>\n",
       "      <td>US</td>\n",
       "      <td>1562898118</td>\n",
       "      <td>93</td>\n",
       "      <td>40.6</td>\n",
       "      <td>-124.16</td>\n",
       "      <td>290.93</td>\n",
       "      <td>6.7</td>\n",
       "    </tr>\n",
       "    <tr>\n",
       "      <th>2</th>\n",
       "      <td>alyangula</td>\n",
       "      <td>99</td>\n",
       "      <td>AU</td>\n",
       "      <td>1562898121</td>\n",
       "      <td>54</td>\n",
       "      <td>-13.85</td>\n",
       "      <td>136.42</td>\n",
       "      <td>301.15</td>\n",
       "      <td>4.1</td>\n",
       "    </tr>\n",
       "    <tr>\n",
       "      <th>3</th>\n",
       "      <td>ushuaia</td>\n",
       "      <td>75</td>\n",
       "      <td>AR</td>\n",
       "      <td>1562897953</td>\n",
       "      <td>93</td>\n",
       "      <td>-54.81</td>\n",
       "      <td>-68.31</td>\n",
       "      <td>276.15</td>\n",
       "      <td>4.1</td>\n",
       "    </tr>\n",
       "    <tr>\n",
       "      <th>4</th>\n",
       "      <td>san francisco</td>\n",
       "      <td>100</td>\n",
       "      <td>CO</td>\n",
       "      <td>1562897478</td>\n",
       "      <td>97</td>\n",
       "      <td>1.17</td>\n",
       "      <td>-76.88</td>\n",
       "      <td>281.654</td>\n",
       "      <td>1.13</td>\n",
       "    </tr>\n",
       "  </tbody>\n",
       "</table>\n",
       "</div>"
      ],
      "text/plain": [
       "            City Cloudiness Country        Date Humidity    Lat     Lng  \\\n",
       "0    yellowknife         75      CA  1562898114       77  62.45 -114.38   \n",
       "1        fortuna         90      US  1562898118       93   40.6 -124.16   \n",
       "2      alyangula         99      AU  1562898121       54 -13.85  136.42   \n",
       "3        ushuaia         75      AR  1562897953       93 -54.81  -68.31   \n",
       "4  san francisco        100      CO  1562897478       97   1.17  -76.88   \n",
       "\n",
       "  Max Temp Wind Speed  \n",
       "0   289.15        3.6  \n",
       "1   290.93        6.7  \n",
       "2   301.15        4.1  \n",
       "3   276.15        4.1  \n",
       "4  281.654       1.13  "
      ]
     },
     "execution_count": 129,
     "metadata": {},
     "output_type": "execute_result"
    }
   ],
   "source": [
    "# Visualise data\n",
    "cities_pd.head()"
   ]
  },
  {
   "cell_type": "code",
   "execution_count": 130,
   "metadata": {},
   "outputs": [
    {
     "name": "stdout",
     "output_type": "stream",
     "text": [
      "{'base': 'stations',\n",
      " 'clouds': {'all': 75},\n",
      " 'cod': 200,\n",
      " 'coord': {'lat': 51.51, 'lon': -0.13},\n",
      " 'dt': 1562897908,\n",
      " 'id': 2643743,\n",
      " 'main': {'humidity': 77,\n",
      "          'pressure': 1012,\n",
      "          'temp': 290.3,\n",
      "          'temp_max': 292.59,\n",
      "          'temp_min': 288.15},\n",
      " 'name': 'London',\n",
      " 'sys': {'country': 'GB',\n",
      "         'id': 1417,\n",
      "         'message': 0.0105,\n",
      "         'sunrise': 1562903816,\n",
      "         'sunset': 1562962490,\n",
      "         'type': 1},\n",
      " 'timezone': 3600,\n",
      " 'visibility': 10000,\n",
      " 'weather': [{'description': 'broken clouds',\n",
      "              'icon': '04n',\n",
      "              'id': 803,\n",
      "              'main': 'Clouds'}],\n",
      " 'wind': {'deg': 270, 'speed': 4.1}}\n"
     ]
    }
   ],
   "source": [
    "url1 ='http://api.openweathermap.org/data/2.5/weather?'\n",
    "\n",
    "datal = requests.get(url+'appid='+api_key+'&q=london').json()\n",
    "pprint(datal)"
   ]
  },
  {
   "cell_type": "code",
   "execution_count": 131,
   "metadata": {},
   "outputs": [
    {
     "data": {
      "text/plain": [
       "75"
      ]
     },
     "execution_count": 131,
     "metadata": {},
     "output_type": "execute_result"
    }
   ],
   "source": [
    "datal['clouds']['all']"
   ]
  },
  {
   "cell_type": "code",
   "execution_count": 132,
   "metadata": {},
   "outputs": [
    {
     "name": "stdout",
     "output_type": "stream",
     "text": [
      "\u001b[1mWarning: No active frommets remain. Continue?\u001b[0m\n"
     ]
    }
   ],
   "source": [
    "class bcolors:\n",
    "    HEADER = '\\033[95m'\n",
    "    OKBLUE = '\\033[94m'\n",
    "    OKGREEN = '\\033[92m'\n",
    "    WARNING = '\\033[93m'\n",
    "    FAIL = '\\033[91m'\n",
    "    ENDC = '\\033[0m'\n",
    "    BOLD = '\\033[1m'\n",
    "    UNDERLINE = '\\033[4m'\n",
    "\n",
    "print (bcolors.BOLD + \"Warning: No active frommets remain. Continue?\" \n",
    "      + bcolors.ENDC)"
   ]
  },
  {
   "cell_type": "code",
   "execution_count": 137,
   "metadata": {},
   "outputs": [
    {
     "data": {
      "image/png": "[encoded data removed]",
      "text/plain": [
       "<Figure size 432x288 with 1 Axes>"
      ]
     },
     "metadata": {
      "needs_background": "light"
     },
     "output_type": "display_data"
    }
   ],
   "source": [
    "x = pd.to_numeric(cities_pd['Lat'])\n",
    "y = cities_pd['Max Temp']\n",
    "\n",
    "# fig = plt.figure()\n",
    "# ax = plt.subplot()\n",
    "plt.scatter(x, y, marker=\"o\" ,  edgecolors=\"black\", c='skyblue', alpha =0.85, linewidth=[0.79])\n",
    "\n",
    "# Incorporate the other graph properties\n",
    "plt.xlabel('Latitude')\n",
    "plt.ylabel('Max Temperature (F)')\n",
    "plt.title('City Latitude vs. Max Temperature (07/11/19)')\n",
    "\n",
    "plt.grid()\n",
    "plt.show()\n"
   ]
  },
  {
   "cell_type": "code",
   "execution_count": 135,
   "metadata": {},
   "outputs": [
    {
     "name": "stdout",
     "output_type": "stream",
     "text": [
      "0     62.45\n",
      "1      40.6\n",
      "2    -13.85\n",
      "3    -54.81\n",
      "4      1.17\n",
      "5    -21.21\n",
      "6          \n",
      "7     11.14\n",
      "8    -20.63\n",
      "9    -46.19\n",
      "10    39.95\n",
      "11    50.57\n",
      "12     69.7\n",
      "13    40.36\n",
      "14    63.89\n",
      "15   -10.46\n",
      "16    -0.74\n",
      "17     9.63\n",
      "18     19.1\n",
      "19    18.56\n",
      "20         \n",
      "21    -0.72\n",
      "22         \n",
      "23    -2.02\n",
      "24     3.78\n",
      "25         \n",
      "26    27.97\n",
      "27    30.04\n",
      "28    36.58\n",
      "29     -9.8\n",
      "      ...  \n",
      "45         \n",
      "46    31.45\n",
      "47         \n",
      "48     3.07\n",
      "49   -42.88\n",
      "50    68.06\n",
      "51     2.38\n",
      "52   -34.42\n",
      "53    48.68\n",
      "54   -12.49\n",
      "55   -53.16\n",
      "56     8.02\n",
      "57         \n",
      "58         \n",
      "59   -34.53\n",
      "60    15.34\n",
      "61    -8.93\n",
      "62    22.08\n",
      "63   -33.93\n",
      "64   -33.86\n",
      "65   -23.12\n",
      "66    50.57\n",
      "67   -41.87\n",
      "68    13.59\n",
      "69    -1.57\n",
      "70    19.71\n",
      "71   -43.53\n",
      "72   -45.41\n",
      "73     8.96\n",
      "74   -33.02\n",
      "Name: Lat, Length: 75, dtype: object\n"
     ]
    }
   ],
   "source": [
    "print(cities_pd['Lat'])"
   ]
  },
  {
   "cell_type": "code",
   "execution_count": null,
   "metadata": {},
   "outputs": [],
   "source": [
    "# Save Figure\n",
    "plt.savefig('W1.png')"
   ]
  }
 ],
 "metadata": {
  "kernelspec": {
   "display_name": "Python 3",
   "language": "python",
   "name": "python3"
  },
  "language_info": {
   "codemirror_mode": {
    "name": "ipython",
    "version": 3
   },
   "file_extension": ".py",
   "mimetype": "text/x-python",
   "name": "python",
   "nbconvert_exporter": "python",
   "pygments_lexer": "ipython3",
   "version": "3.7.1"
  }
 },
 "nbformat": 4,
 "nbformat_minor": 2
}
