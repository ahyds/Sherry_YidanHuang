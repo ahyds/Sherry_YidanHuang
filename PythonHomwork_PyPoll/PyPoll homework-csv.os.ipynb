{
 "cells": [
  {
   "cell_type": "code",
   "execution_count": 1,
   "metadata": {},
   "outputs": [],
   "source": [
    "import csv"
   ]
  },
  {
   "cell_type": "code",
   "execution_count": 13,
   "metadata": {},
   "outputs": [
    {
     "name": "stdout",
     "output_type": "stream",
     "text": [
      "{'Khan': 2218231, 'Correy': 704200, 'Li': 492940, \"O'Tooley\": 105630}\n"
     ]
    }
   ],
   "source": [
    "file_name = \"Resources/election_data.csv\"\n",
    "candidates = {}    #----> create an empty dictionary to hold cand names and votes\n",
    "\n",
    "with open(file_name, 'r') as file:\n",
    "    in_file = csv.reader(file)\n",
    "    next(in_file)             #----> open the csv file content (file_name---file---in_file)\n",
    "    for row in in_file:       #----> iteration to read each row in the csv and add cand name \n",
    "                                     #to the dictionary and count the number of occurences as value.\n",
    "        if row[2] in candidates.keys():\n",
    "            candidates[row[2]] += 1   #------->  add 1 when cand name re-apprears.\n",
    "        else:\n",
    "            candidates[row[2]] = 1   # -------> initiates the first occurence  with counting 1.\n",
    "\n",
    "print(candidates)"
   ]
  },
  {
   "cell_type": "code",
   "execution_count": 4,
   "metadata": {},
   "outputs": [
    {
     "data": {
      "text/plain": [
       "3521001"
      ]
     },
     "execution_count": 4,
     "metadata": {},
     "output_type": "execute_result"
    }
   ],
   "source": [
    "total_votes = sum(candidates.values())  #---> sum up values of every cand's votes\n",
    "total_votes"
   ]
  },
  {
   "cell_type": "code",
   "execution_count": 5,
   "metadata": {},
   "outputs": [
    {
     "data": {
      "text/plain": [
       "dict_keys(['Khan', 'Correy', 'Li', \"O'Tooley\"])"
      ]
     },
     "execution_count": 5,
     "metadata": {},
     "output_type": "execute_result"
    }
   ],
   "source": [
    "list_candidates = candidates.keys()   #-------> get a list of cand names\n",
    "list_candidates"
   ]
  },
  {
   "cell_type": "code",
   "execution_count": 14,
   "metadata": {},
   "outputs": [
    {
     "data": {
      "text/plain": [
       "['63.000%', '20.000%', '14.000%', '3.000%']"
      ]
     },
     "execution_count": 14,
     "metadata": {},
     "output_type": "execute_result"
    }
   ],
   "source": [
    "votes_per = [f'{(x/total_votes)*100:.3f}%' for x in candidates.values()]\n",
    "votes_per"
   ]
  },
  {
   "cell_type": "code",
   "execution_count": 16,
   "metadata": {},
   "outputs": [
    {
     "data": {
      "text/plain": [
       "'Khan'"
      ]
     },
     "execution_count": 16,
     "metadata": {},
     "output_type": "execute_result"
    }
   ],
   "source": [
    "winner = list(candidates.keys())[list(candidates.values()).index(max(candidates.values()))]\n",
    "# 1. max() gets  candidate's name with the most votes, then index() gets his index , \n",
    "winner"
   ]
  },
  {
   "cell_type": "code",
   "execution_count": 12,
   "metadata": {},
   "outputs": [
    {
     "name": "stdout",
     "output_type": "stream",
     "text": [
      "Electioin Results\n",
      "---------------------\n",
      "Total votes: 3521001\n",
      "---------------------\n",
      "Khan:63.00%(2218231)\n",
      "Correy:20.00%(704200)\n",
      "Li:14.00%(492940)\n",
      "O'Tooley:3.00%(105630)\n",
      "---------------------\n",
      "Winner: Khan\n"
     ]
    }
   ],
   "source": [
    "print('Electioin Results')\n",
    "print('---------------------')\n",
    "print(f'Total votes: {total_votes}')\n",
    "print('---------------------')\n",
    "for i in range(len(candidates)):\n",
    "    print(f'{list(candidates.keys())[i]}:{votes_per[i]}({list(candidates.values())[i]})')\n",
    "print('---------------------')\n",
    "print(f'Winner: {winner}')"
   ]
  },
  {
   "cell_type": "code",
   "execution_count": null,
   "metadata": {},
   "outputs": [],
   "source": []
  }
 ],
 "metadata": {
  "kernelspec": {
   "display_name": "Python 3",
   "language": "python",
   "name": "python3"
  },
  "language_info": {
   "codemirror_mode": {
    "name": "ipython",
    "version": 3
   },
   "file_extension": ".py",
   "mimetype": "text/x-python",
   "name": "python",
   "nbconvert_exporter": "python",
   "pygments_lexer": "ipython3",
   "version": "3.7.1"
  }
 },
 "nbformat": 4,
 "nbformat_minor": 2
}
